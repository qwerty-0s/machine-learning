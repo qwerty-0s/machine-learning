{
 "cells": [
  {
   "cell_type": "code",
   "execution_count": 4,
   "id": "459f2f59-0f33-4679-beb9-37f3178d83bc",
   "metadata": {},
   "outputs": [
    {
     "name": "stdout",
     "output_type": "stream",
     "text": [
      "1\n"
     ]
    }
   ],
   "source": [
    "s = input()"
   ]
  },
  {
   "cell_type": "markdown",
   "id": "6a1aa1fe-c1ba-425a-b1a5-00f5a22c2f12",
   "metadata": {},
   "source": [
    "# s=input()\n",
    "print(s)"
   ]
  },
  {
   "cell_type": "code",
   "execution_count": null,
   "id": "eea6f0a3-72f2-4375-8812-46b2f3ec53da",
   "metadata": {},
   "outputs": [],
   "source": [
    "3+4"
   ]
  },
  {
   "cell_type": "markdown",
   "id": "1d8b1101-c0ee-4285-a6e9-671c1dd032db",
   "metadata": {},
   "source": [
    "## Header\n",
    "[link](https://github.com)"
   ]
  },
  {
   "cell_type": "code",
   "execution_count": null,
   "id": "acde11ab-67a8-464c-b6c2-f51f5a9e203f",
   "metadata": {},
   "outputs": [],
   "source": []
  },
  {
   "cell_type": "code",
   "execution_count": null,
   "id": "0793c876-96c0-4d59-817d-61fbbe0af4ea",
   "metadata": {},
   "outputs": [],
   "source": []
  },
  {
   "cell_type": "code",
   "execution_count": null,
   "id": "58dcc8b5-09c2-4dc2-b12b-2fa1a5b51906",
   "metadata": {},
   "outputs": [],
   "source": []
  },
  {
   "cell_type": "code",
   "execution_count": null,
   "id": "f7ef5a55-99f7-4041-be4b-e9d94d52724a",
   "metadata": {},
   "outputs": [],
   "source": []
  }
 ],
 "metadata": {
  "kernelspec": {
   "display_name": "Python 3 (ipykernel)",
   "language": "python",
   "name": "python3"
  },
  "language_info": {
   "codemirror_mode": {
    "name": "ipython",
    "version": 3
   },
   "file_extension": ".py",
   "mimetype": "text/x-python",
   "name": "python",
   "nbconvert_exporter": "python",
   "pygments_lexer": "ipython3",
   "version": "3.11.2"
  }
 },
 "nbformat": 4,
 "nbformat_minor": 5
}
